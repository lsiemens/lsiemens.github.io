{
 "cells": [
  {
   "cell_type": "markdown",
   "id": "2c460541-71db-47fb-81f8-9adf19b90b6b",
   "metadata": {},
   "source": [
    "Describe invertible calculus.\n",
    "first examples $(f(x), [b_{1}, b_{1}, ...])$ give concrete examples\n",
    "then given $f(x) \\in \\mathcal{O}(\\mathbb{C})$ then $f(x)$ is defined by a taylor series $[a_0, a_1, a_2, ...]$\n",
    "so $(f(x), [b_{1}, b_{2}, ...]) = ([a_1, a_2, a_3, ...], [b_1, b_2, ...]) = ([..., a_{-2}, a_{-1}, a_0, a_1, a_2, ...])$ where $b_n = a_{-n}$"
   ]
  },
  {
   "cell_type": "code",
   "execution_count": null,
   "id": "c3758631",
   "metadata": {
    "jupyter": {
     "source_hidden": true
    },
    "scrolled": true
   },
   "outputs": [],
   "source": [
    "import Graphics.Rendering.Chart.Easy\n",
    "import Graphics.Rendering.Chart.Backend.Cairo"
   ]
  },
  {
   "cell_type": "code",
   "execution_count": null,
   "id": "fcf65533",
   "metadata": {
    "jupyter": {
     "source_hidden": true
    },
    "tags": []
   },
   "outputs": [],
   "source": [
    "type Function = (Double -> Double)\n",
    "\n",
    "_AnalyticAccuracy = 50\n",
    "\n",
    "class Differentiable a where\n",
    "    derivative :: a -> a\n",
    "    antiderivative :: a -> a\n",
    "\n",
    "class Analytic a where\n",
    "    toFunction :: a -> Function\n",
    "\n",
    "repeat' = concat . repeat\n",
    "\n",
    "linspace :: Double -> Double -> Int -> [Double]\n",
    "linspace start stop num =\n",
    "    let dx = (stop - start)/fromIntegral (num - 1)\n",
    "    in [fromIntegral i*dx + start| i <- [0 .. (num - 1)]]\n",
    "\n",
    "factorial :: Integer -> Integer\n",
    "factorial 0 = 1\n",
    "factorial n = n*factorial (n - 1)"
   ]
  },
  {
   "cell_type": "code",
   "execution_count": null,
   "id": "b2055e9e-1003-460c-be1c-081d485f721f",
   "metadata": {
    "jupyter": {
     "source_hidden": true
    },
    "tags": []
   },
   "outputs": [],
   "source": [
    "data TaylorSeries = Constant Double | TaylorSeries [Double]\n",
    "\n",
    "instance Show TaylorSeries where\n",
    "    show (TaylorSeries terms) = \"Taylor Series: \" ++ init (show (take 10 terms)) ++ \" ... ]\"\n",
    "    show (Constant a) = \"Constant: \" ++ show a\n",
    "\n",
    "instance Num TaylorSeries where\n",
    "    (+) (Constant a) (Constant b) = Constant (a + b)\n",
    "    (+) (Constant a) (TaylorSeries (b:terms)) = TaylorSeries (a+b:terms)\n",
    "    (+) function (Constant a) = Constant a + function \n",
    "    (+) (TaylorSeries termsA) (TaylorSeries termsB) = TaylorSeries [a+b | (a, b) <- zip termsA termsB]\n",
    "    \n",
    "    negate (Constant a) = Constant $ negate a\n",
    "    negate (TaylorSeries terms) = TaylorSeries $ map negate terms\n",
    "    \n",
    "    abs (Constant a) = Constant $ abs a\n",
    "    abs (TaylorSeries terms) = TaylorSeries $ map abs terms\n",
    "    \n",
    "    fromInteger a = Constant $ fromInteger a\n",
    "    \n",
    "    (*) (Constant a) (Constant b) = Constant (a*b)\n",
    "    (*) (Constant a) (TaylorSeries terms) = TaylorSeries $ map (a*) terms\n",
    "    (*) function (Constant a) = Constant a * function \n",
    "    (*) _ _ = error \"Undefined\"\n",
    "    signum _ = error \"Undefined\"\n",
    "\n",
    "instance Analytic TaylorSeries where\n",
    "    toFunction (TaylorSeries taylorSeries) =\n",
    "        let function :: TaylorSeries -> Function\n",
    "            function (TaylorSeries taylorSeries) x = sum [a*x^^n/fromIntegral (factorial n) | (a, n) <- zip taylorSeries [0..] ]\n",
    "        in function $ TaylorSeries (take _AnalyticAccuracy taylorSeries)\n",
    "\n",
    "instance Differentiable TaylorSeries where\n",
    "    derivative (TaylorSeries (a:function)) = TaylorSeries function\n",
    "\n",
    "    antiderivative (TaylorSeries function) = TaylorSeries (0:function)"
   ]
  },
  {
   "cell_type": "code",
   "execution_count": null,
   "id": "505ccc4a-76fe-4c9f-8eb5-13f00137bc48",
   "metadata": {
    "jupyter": {
     "source_hidden": true
    },
    "tags": []
   },
   "outputs": [],
   "source": [
    "data ShiftFunction = Scalar Double | ShiftFunction [Double] [Double]\n",
    "\n",
    "instance Show ShiftFunction where\n",
    "    show (ShiftFunction (a_0:terms) intterms) = \"Shift function: [... \" ++ (init.tail.show.reverse.take 4) intterms ++ \",(\" ++ show a_0 ++ \"),\" ++ (init.tail.show.take 4) terms ++ \" ...]\"\n",
    "    show (Scalar a) = \"Constant: \" ++ show a\n",
    "\n",
    "instance Num ShiftFunction where\n",
    "    (+) (Scalar a) (Scalar b) = Scalar (a + b)\n",
    "    (+) (Scalar a) (ShiftFunction (b:terms) intterms) = ShiftFunction (a+b:terms) intterms\n",
    "    (+) function (Scalar a) = Scalar a + function \n",
    "    (+) (ShiftFunction termsA inttermsA) (ShiftFunction termsB inttermsB) = ShiftFunction [a+b | (a, b) <- zip termsA termsB] [a+b | (a, b) <- zip inttermsA inttermsB]\n",
    "    \n",
    "    negate (Scalar a) = Scalar $ negate a\n",
    "    negate (ShiftFunction terms intterms) = ShiftFunction (map negate terms) (map negate intterms)\n",
    "    \n",
    "    abs (Scalar a) = Scalar $ abs a\n",
    "    abs (ShiftFunction terms intterms) = ShiftFunction (map abs terms) (map abs intterms)\n",
    "    \n",
    "    fromInteger a = Scalar $ fromInteger a\n",
    "    \n",
    "    (*) (Scalar a) (Scalar b) = Scalar (a*b)\n",
    "    (*) (Scalar a) (ShiftFunction terms intterms) = ShiftFunction (map (a*) terms) (map (a*) intterms)\n",
    "    (*) function (Scalar a) = Scalar a * function \n",
    "    (*) _ _ = error \"Undefined\"\n",
    "    signum _ = error \"Undefined\"\n",
    "\n",
    "instance Analytic ShiftFunction where\n",
    "    toFunction (ShiftFunction terms intterms) =\n",
    "        let function :: ShiftFunction -> Function\n",
    "            function (ShiftFunction terms _) x = sum [a*x^^n/fromIntegral (factorial n) | (a, n) <- zip terms [0..] ]\n",
    "        in function $ ShiftFunction (take _AnalyticAccuracy terms) []\n",
    "\n",
    "instance Differentiable ShiftFunction where\n",
    "    derivative (ShiftFunction (a:terms) intterms) = ShiftFunction terms (a:intterms)\n",
    "\n",
    "    antiderivative (ShiftFunction terms (a:intterms)) = ShiftFunction (a:terms) intterms"
   ]
  },
  {
   "cell_type": "code",
   "execution_count": null,
   "id": "f35e018f-30d8-490f-9bf4-6d5f6f8004ee",
   "metadata": {
    "jupyter": {
     "source_hidden": true
    },
    "tags": []
   },
   "outputs": [],
   "source": [
    "data StackFunction = StackFunction ShiftFunction String\n",
    "\n",
    "instance Show StackFunction where\n",
    "    show (StackFunction (Scalar a) _) = show (Scalar a)\n",
    "    show (StackFunction (ShiftFunction _ intterms) function) = \"StackFunction: (\" ++ function ++ \",[\" ++ (init.tail.show.take 10) intterms ++ \"...])\"\n",
    "\n",
    "instance Num StackFunction where\n",
    "    (+) (StackFunction functionA labelA) (StackFunction functionB labelB) = StackFunction (functionA + functionB) (labelA ++ \"+\" ++ labelB)\n",
    "    \n",
    "    negate (StackFunction function label) = StackFunction (-function) (\"-\" ++ label)\n",
    "    \n",
    "    abs (StackFunction function label) = StackFunction (abs function) (\"abs(\" ++ label ++ \")\")\n",
    "    \n",
    "    fromInteger a = StackFunction (fromInteger a) (show a)\n",
    "    \n",
    "    (*) (StackFunction functionA labelA) (StackFunction functionB labelB) = StackFunction (functionA*functionB) (labelA ++ \"*\" ++ labelB)\n",
    "    signum _ = error \"Undefined\"\n",
    "\n",
    "instance Analytic StackFunction where\n",
    "    toFunction (StackFunction function _) = toFunction function\n",
    "\n",
    "instance Differentiable StackFunction where\n",
    "    derivative (StackFunction function label) = StackFunction (derivative function) (\"(d/dx)\" ++ label)\n",
    "\n",
    "    antiderivative (StackFunction function label) = StackFunction (antiderivative function) (\"(d/dx)^(-1)\" ++ label)"
   ]
  },
  {
   "cell_type": "code",
   "execution_count": null,
   "id": "3b437ad8",
   "metadata": {
    "jupyter": {
     "source_hidden": true
    }
   },
   "outputs": [],
   "source": [
    "eval :: (Analytic a) => a -> [Double] -> [(Double, Double)]\n",
    "eval function xs = [(x, toFunction function x) | x<-xs]\n",
    "plot' x function = toRenderable (plot (line \"func\" [eval function x]))\n",
    "plots x functions = toRenderable (plot (line \"func\" [eval function x | function <- functions]))\n",
    "\n",
    "exp' = TaylorSeries $ repeat 1\n",
    "sin' = TaylorSeries $ repeat' [0, 1, 0, -1]\n",
    "cos' = TaylorSeries $ repeat' [1, 0, -1, 0]\n",
    "\n",
    "exp'' = ShiftFunction (repeat 1) (repeat 1)\n",
    "sin'' = ShiftFunction (repeat' [0, 1, 0, -1]) (repeat' [-1, 0, 1, 0])\n",
    "cos'' = ShiftFunction (repeat' [1, 0, -1, 0]) (repeat' [0, -1, 0, 1])\n",
    "\n",
    "exp''' = StackFunction exp'' \"exp(x)\"\n",
    "cos''' = StackFunction cos'' \"cos(x)\"\n",
    "sin''' = StackFunction sin'' \"sin(x)\""
   ]
  },
  {
   "cell_type": "code",
   "execution_count": null,
   "id": "cfb8e4b3-8c35-4698-8f6c-1a9cbe91cd81",
   "metadata": {
    "jupyter": {
     "source_hidden": true
    },
    "tags": []
   },
   "outputs": [],
   "source": [
    "x = linspace (-10) 4 500\n",
    "\n",
    "func' = 6*cos' + 2*exp' - 2*Constant pi\n",
    "func'' = 6*cos'' + 2*exp'' - 2*Scalar pi\n",
    "func''' = 6*cos''' + 2*exp''' - 2*StackFunction (Scalar pi) \"pi\"\n",
    "func = func'''\n",
    "print func\n",
    "plot' x func\n",
    "plot' x $ derivative func\n",
    "plot' x $ antiderivative func"
   ]
  },
  {
   "cell_type": "code",
   "execution_count": null,
   "id": "7628a3c7-b479-48f4-be3d-2f0368f18411",
   "metadata": {
    "jupyter": {
     "source_hidden": true
    },
    "tags": []
   },
   "outputs": [],
   "source": [
    "f = ShiftFunction (repeat 1) (repeat 1)\n",
    "(derivative.derivative) f - 2*derivative f + 3*f"
   ]
  },
  {
   "cell_type": "markdown",
   "id": "ed3c1ad9-d8df-4505-85b8-a7a9d7e55b2d",
   "metadata": {},
   "source": [
    "differential function $f'' - 2*f' + 3*f = 0$, try $f = e^{ax}$, then $a^2f - 2*a*f + 3*f = 0$ quadradic equation for ansatz $a^2 - 2*a + 3 = 0$ solution to ansatz $a = \\frac{2+\\sqrt{4-4*3}}{2}$ so $f(x) = 2e^x cos(x\\sqrt{2})$\n",
    "\n",
    "Recursive equation $a_{n+2} - 2*a_{n+1} + 3*a_n = 0$ rearanging then $a_n = \\frac{2*a_{n+1} - a_{n+2}}{3}$, and $a_{n+2} = 2*a_{n+1} - 3*a_n$"
   ]
  },
  {
   "cell_type": "code",
   "execution_count": null,
   "id": "316debf7-4621-4463-87a7-3ecc2e399b14",
   "metadata": {
    "jupyter": {
     "source_hidden": true
    }
   },
   "outputs": [],
   "source": [
    "--terms :: (Num a) => a -> a -> Int -> a\n",
    "--terms a b 0 = a\n",
    "--terms a b 1 = b\n",
    "--terms a b n = 2*terms a b (n - 1) - 3*terms a b (n-2)\n",
    "\n",
    "--intterms :: (Fractional a) => a -> a -> Int -> a\n",
    "--intterms a b 0 = a\n",
    "--intterms a b 1 = b\n",
    "--intterms a b n = (2*intterms a b (n + 1) - intterms a b (n + 2))/3\n",
    "\n",
    "terms :: (Num a) => a -> a -> [a]\n",
    "terms a b = let list = a:b:zipWith (\\x y->2*y-3*x) list (tail list)\n",
    "            in list\n",
    "\n",
    "intterms :: (Fractional a) => a -> a -> [a]\n",
    "intterms a b = let list = b:a:zipWith (\\y x->(2*y - x)/3.0) (tail list) list\n",
    "                in drop 2 list\n",
    "\n",
    "(a, b) = (0, -10)\n",
    "\n",
    "g = TaylorSeries $ terms a b\n",
    "g' = ShiftFunction (terms a b) (intterms a b)"
   ]
  },
  {
   "cell_type": "code",
   "execution_count": null,
   "id": "a076e796-028b-4b1d-8373-3c983cb5fabb",
   "metadata": {
    "jupyter": {
     "source_hidden": true
    }
   },
   "outputs": [],
   "source": [
    "x = linspace (-3) 3 100\n",
    "\n",
    "print g'\n",
    "print $ derivative g'\n",
    "print $ antiderivative g'\n",
    "\n",
    "plot' x g'\n",
    "plot' x $ derivative g'\n",
    "plot' x $ antiderivative g'"
   ]
  },
  {
   "cell_type": "code",
   "execution_count": null,
   "id": "179871a8-e11e-4267-8b0a-f0ba1bf0ce7b",
   "metadata": {
    "jupyter": {
     "source_hidden": true
    }
   },
   "outputs": [],
   "source": [
    "gs = [TaylorSeries $ terms (-1) a | a <- linspace (-2) 2 10]\n",
    "plots x gs\n",
    "gs = [TaylorSeries $ terms a 0 | a <- linspace (-2) 0 10]\n",
    "plots x gs\n",
    "gs = [TaylorSeries $ terms a b | a <- linspace (-2) 2 10, b <- linspace (-2) 0 10]\n",
    "plots x gs"
   ]
  },
  {
   "cell_type": "code",
   "execution_count": null,
   "id": "f99bd959-ab48-4b30-8d24-c50df23326b9",
   "metadata": {
    "jupyter": {
     "source_hidden": true
    }
   },
   "outputs": [],
   "source": [
    "data Derivative = D | Dn Derivative deriving Eq\n",
    "data Dx a = C a | Dx a Derivative deriving Eq\n",
    "\n",
    "count :: Derivative -> Integer\n",
    "count D = 1\n",
    "count (Dn d) = 1 + count d\n",
    "\n",
    "instance Show Derivative where\n",
    "    show D = \"dx\"\n",
    "    show d = \"dx^\" ++ show (count d)\n",
    "\n",
    "instance (Show a, Num a, Eq a) => Show (Dx a) where\n",
    "    show (C a) = show a\n",
    "    show (Dx a d)\n",
    "        | a == 1 = show d\n",
    "        | a == 0 = show a\n",
    "        | otherwise = show a ++ show d\n",
    "\n",
    "instance Semigroup Derivative where\n",
    "    (<>) D D = Dn D\n",
    "    (<>) D (Dn dn) = Dn (Dn dn)\n",
    "    (<>) d D = D <> d\n",
    "    (<>) (Dn dn) d = dn <> Dn d\n",
    "\n",
    "instance (Num a) => Semigroup (Dx a) where\n",
    "    (<>) (C a) (C b) = C (a*b)\n",
    "    (<>) (C a) (Dx b d) = Dx (a*b) d\n",
    "    (<>) d (C a) = C a <> d\n",
    "    (<>) (Dx a dn) (Dx b dm) = Dx (a*b) (dn<>dm)\n",
    "\n",
    "instance (Num a) => Monoid (Dx a) where\n",
    "    mempty = C 1\n",
    "\n",
    "d = Dx 1.2 D\n",
    "mappend d d"
   ]
  },
  {
   "cell_type": "markdown",
   "id": "f5fa07ec-24ff-47f4-90db-4326b8dfc8b1",
   "metadata": {},
   "source": [
    "End of tests"
   ]
  }
 ],
 "metadata": {
  "kernelspec": {
   "display_name": "Haskell",
   "language": "haskell",
   "name": "haskell"
  },
  "language_info": {
   "codemirror_mode": "ihaskell",
   "file_extension": ".hs",
   "mimetype": "text/x-haskell",
   "name": "haskell",
   "pygments_lexer": "Haskell",
   "version": "8.10.4"
  }
 },
 "nbformat": 4,
 "nbformat_minor": 5
}
